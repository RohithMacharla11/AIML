{
 "cells": [
  {
   "cell_type": "code",
   "execution_count": 1,
   "id": "93a82d1b",
   "metadata": {},
   "outputs": [
    {
     "name": "stdout",
     "output_type": "stream",
     "text": [
      "The adjacent List representing the graph is : \n",
      "{0: [1, 3], 1: [0, 2, 3], 2: [1, 4, 5], 3: [0, 1, 4], 4: [2, 3, 5], 5: [2, 4], 6: []}\n"
     ]
    }
   ],
   "source": [
    "import numpy as np\n",
    "from queue import Queue\n",
    "\n",
    "graph = {0: [1,3], 1: [0,2,3], 2: [1,4,5], 3: [0,1,4], 4: [2,3,5], 5: [2,4], 6: []}\n",
    "print(\"The adjacent List representing the graph is : \")\n",
    "print(graph)"
   ]
  },
  {
   "cell_type": "code",
   "execution_count": 6,
   "id": "47dc0b1d",
   "metadata": {},
   "outputs": [
    {
     "name": "stdout",
     "output_type": "stream",
     "text": [
      "5->"
     ]
    },
    {
     "ename": "NameError",
     "evalue": "name 'u' is not defined",
     "output_type": "error",
     "traceback": [
      "\u001b[1;31m---------------------------------------------------------------------------\u001b[0m",
      "\u001b[1;31mNameError\u001b[0m                                 Traceback (most recent call last)",
      "Cell \u001b[1;32mIn[6], line 12\u001b[0m\n\u001b[0;32m     10\u001b[0m             Q\u001b[38;5;241m.\u001b[39mput(u)\n\u001b[0;32m     11\u001b[0m             visited_vertices\u001b[38;5;241m.\u001b[39mupdate({u})\n\u001b[1;32m---> 12\u001b[0m \u001b[43mbfs\u001b[49m\u001b[43m(\u001b[49m\u001b[43mgraph\u001b[49m\u001b[43m,\u001b[49m\u001b[43m \u001b[49m\u001b[38;5;241;43m5\u001b[39;49m\u001b[43m)\u001b[49m\n",
      "Cell \u001b[1;32mIn[6], line 9\u001b[0m, in \u001b[0;36mbfs\u001b[1;34m(graph, source)\u001b[0m\n\u001b[0;32m      7\u001b[0m vertex \u001b[38;5;241m=\u001b[39m Q\u001b[38;5;241m.\u001b[39mget()\n\u001b[0;32m      8\u001b[0m \u001b[38;5;28mprint\u001b[39m(vertex, end\u001b[38;5;241m=\u001b[39m\u001b[38;5;124m\"\u001b[39m\u001b[38;5;124m->\u001b[39m\u001b[38;5;124m\"\u001b[39m)\n\u001b[1;32m----> 9\u001b[0m \u001b[38;5;28;01mif\u001b[39;00m \u001b[43mu\u001b[49m \u001b[38;5;129;01mnot\u001b[39;00m \u001b[38;5;129;01min\u001b[39;00m visited_vertices:\n\u001b[0;32m     10\u001b[0m     Q\u001b[38;5;241m.\u001b[39mput(u)\n\u001b[0;32m     11\u001b[0m     visited_vertices\u001b[38;5;241m.\u001b[39mupdate({u})\n",
      "\u001b[1;31mNameError\u001b[0m: name 'u' is not defined"
     ]
    }
   ],
   "source": [
    "def bfs(graph, source):\n",
    "    Q = Queue()\n",
    "    visited_vertices = set()\n",
    "    Q.put(source)\n",
    "    visited_vertices.update({0})\n",
    "    while not Q.empty():\n",
    "        vertex = Q.get()\n",
    "        print(vertex, end=\"->\")\n",
    "        if u not in visited_vertices:\n",
    "            Q.put(u)\n",
    "            visited_vertices.update({u})"
   ]
  },
  {
   "cell_type": "code",
   "execution_count": null,
   "id": "c2b86528",
   "metadata": {},
   "outputs": [],
   "source": []
  }
 ],
 "metadata": {
  "kernelspec": {
   "display_name": "Python 3 (ipykernel)",
   "language": "python",
   "name": "python3"
  },
  "language_info": {
   "codemirror_mode": {
    "name": "ipython",
    "version": 3
   },
   "file_extension": ".py",
   "mimetype": "text/x-python",
   "name": "python",
   "nbconvert_exporter": "python",
   "pygments_lexer": "ipython3",
   "version": "3.11.5"
  }
 },
 "nbformat": 4,
 "nbformat_minor": 5
}
