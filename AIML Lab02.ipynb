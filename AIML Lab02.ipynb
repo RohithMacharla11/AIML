{
 "cells": [
  {
   "cell_type": "code",
   "execution_count": 2,
   "id": "2229ec6d-b645-4f3f-9eb3-a81911c18e8d",
   "metadata": {},
   "outputs": [],
   "source": [
    "import numpy as np"
   ]
  },
  {
   "cell_type": "code",
   "execution_count": 3,
   "id": "4e803542-96c8-4d43-a1e4-d4e5b4e4f4b7",
   "metadata": {},
   "outputs": [
    {
     "name": "stdout",
     "output_type": "stream",
     "text": [
      "The adjacent List representing the graph is : \n",
      "{0: [1, 3], 1: [0, 2, 3], 2: [1, 4, 5], 3: [0, 1, 4], 4: [2, 3, 5], 5: [2, 4], 6: []}\n"
     ]
    }
   ],
   "source": [
    "from queue import Queue\n",
    "graph = {0: [1,3], 1: [0,2,3], 2: [1,4,5], 3: [0,1,4], 4: [2,3,5], 5: [2,4], 6: []}\n",
    "print(\"The adjacent List representing the graph is : \")\n",
    "print(graph)"
   ]
  },
  {
   "cell_type": "code",
   "execution_count": 8,
   "id": "e055a09e-7ebd-4025-b115-45f83ce9af25",
   "metadata": {},
   "outputs": [
    {
     "name": "stdout",
     "output_type": "stream",
     "text": [
      "bfs traversal of graph with source o ia: \n",
      "0-->1-->3-->2-->4-->5-->"
     ]
    }
   ],
   "source": [
    "def bfs(graph,source):\n",
    "    Q=Queue()\n",
    "    visited_vertices=set()\n",
    "    Q.put(source)\n",
    "    visited_vertices.update({0})\n",
    "    while not Q.empty():\n",
    "        vertex=Q.get()\n",
    "        print(vertex,end='-->')\n",
    "        for u in graph[vertex]:\n",
    "            if u not in visited_vertices:\n",
    "                Q.put(u)\n",
    "                visited_vertices.update({u})\n",
    "print(\"bfs traversal of graph with source o ia: \")\n",
    "bfs(graph,0)"
   ]
  },
  {
   "cell_type": "markdown",
   "id": "79db5c41",
   "metadata": {},
   "source": [
    "Implement Depth First Search Algorithm"
   ]
  },
  {
   "cell_type": "code",
   "execution_count": 1,
   "id": "58fe2192",
   "metadata": {},
   "outputs": [
    {
     "name": "stdout",
     "output_type": "stream",
     "text": [
      "['D', 'C', 'E', 'H', 'G', 'F', 'S', 'A', 'B']\n"
     ]
    }
   ],
   "source": [
    "graph1 = {\n",
    "    'A' : ['B','S'],\n",
    "    'B' : ['A'],\n",
    "    'C' : ['D','E','F','S'],\n",
    "    'D' : ['C'],\n",
    "    'E' : ['C','H'],\n",
    "    'F' : ['C','G'],\n",
    "    'G' : ['F','S'],\n",
    "    'H' : ['E','G'],\n",
    "    'S' : ['A','C','G']\n",
    "}\n",
    " \n",
    "def dfs(graph, node, visited):\n",
    "    if node not in visited:\n",
    "        visited.append(node)\n",
    "        for k in graph[node]:\n",
    "            dfs(graph,k, visited)\n",
    "    return visited\n",
    " \n",
    "visited = dfs(graph1,'D', [])\n",
    "print(visited)"
   ]
  },
  {
   "cell_type": "markdown",
   "id": "435481da",
   "metadata": {},
   "source": [
    "Implementation of A* Algorithm / OR Graph search"
   ]
  },
  {
   "cell_type": "code",
   "execution_count": 2,
   "id": "f500d445",
   "metadata": {},
   "outputs": [
    {
     "name": "stdout",
     "output_type": "stream",
     "text": [
      " The 8 puzzle is solvable \n",
      "\n",
      "   2 8 3\n",
      "   7 1 4\n",
      "   0 6 5\n",
      "\n",
      "   2 8 3\n",
      "   0 1 4\n",
      "   7 6 5\n",
      "\n",
      "   2 8 3\n",
      "   1 0 4\n",
      "   7 6 5\n",
      "\n",
      "   2 0 3\n",
      "   1 8 4\n",
      "   7 6 5\n",
      "\n",
      "   0 2 3\n",
      "   1 8 4\n",
      "   7 6 5\n",
      "\n",
      "   1 2 3\n",
      "   0 8 4\n",
      "   7 6 5\n",
      "\n",
      "   1 2 3\n",
      "   8 0 4\n",
      "   7 6 5\n",
      "\n",
      "Steps to reach goal: 6\n",
      "Total nodes visited:  11 \n",
      "\n"
     ]
    },
    {
     "name": "stderr",
     "output_type": "stream",
     "text": [
      "/tmp/ipykernel_10064/3865009458.py:65: DeprecationWarning: Conversion of an array with ndim > 0 to a scalar is deprecated, and will error in future. Ensure you extract a single element from your array before performing this operation. (Deprecated NumPy 1.25.)\n",
      "  blank = int(np.where(puzzle == 0)[0])\n"
     ]
    }
   ],
   "source": [
    "from copy import deepcopy\n",
    "import numpy as np\n",
    "import time\n",
    " \n",
    "def bestsolution(state):\n",
    "    bestsol = np.array([], int).reshape(-1, 9)\n",
    "    count = len(state) - 1\n",
    "    while count != -1:\n",
    "        bestsol = np.insert(bestsol, 0, state[count]['puzzle'], 0)\n",
    "        count = (state[count]['parent'])\n",
    "    return bestsol.reshape(-1, 3, 3)\n",
    " \n",
    "        \n",
    "# checks for the uniqueness of the iteration(it).\n",
    "def all(checkarray):\n",
    "    set=[]\n",
    "    for it in set:\n",
    "        for checkarray in it:\n",
    "            return 1\n",
    "        else:\n",
    "            return 0\n",
    " \n",
    " \n",
    "# number of misplaced tiles \n",
    "def misplaced_tiles(puzzle,goal):\n",
    "    mscost = np.sum(puzzle != goal) - 1\n",
    "    return mscost if mscost > 0 else 0\n",
    " \n",
    " \n",
    "def coordinates(puzzle):\n",
    "    pos = np.array(range(9))\n",
    "    for p, q in enumerate(puzzle):\n",
    "        pos[q] = p\n",
    "    return pos\n",
    " \n",
    " \n",
    "# start of 8 puzzle evaluvation, using Misplaced tiles heuristics\n",
    "def evaluvate_misplaced(puzzle, goal):\n",
    "    steps = np.array([('up', [0, 1, 2], -3),('down', [6, 7, 8],  3),('left', [0, 3, 6], -1),('right', [2, 5, 8],  1)],\n",
    "                dtype =  [('move',  str, 1),('position', list),('head', int)])\n",
    " \n",
    "    dtstate = [('puzzle',  list),('parent', int),('gn',  int),('hn',  int)]\n",
    " \n",
    "    costg = coordinates(goal)\n",
    "    \n",
    "    # initializing the parent, gn and hn, where hn is misplaced_tiles  function call  \n",
    "    parent = -1\n",
    "    gn = 0\n",
    "    hn = misplaced_tiles(coordinates(puzzle), costg)\n",
    "    state = np.array([(puzzle, parent, gn, hn)], dtstate)\n",
    " \n",
    "   #priority queues with position as keys and fn as value.\n",
    "    dtpriority = [('position', int),('fn', int)]\n",
    " \n",
    "    priority = np.array([(0, hn)], dtpriority)\n",
    "     \n",
    "    while 1:\n",
    "        priority = np.sort(priority, kind='mergesort', order=['fn', 'position'])      \n",
    "        position, fn = priority[0]       \n",
    "        # sort priority queue using merge sort,the first element is picked for exploring.                                          \n",
    "        priority = np.delete(priority, 0, 0)                         \n",
    "        puzzle, parent, gn, hn = state[position]\n",
    "        puzzle = np.array(puzzle)\n",
    "          \n",
    "        blank = int(np.where(puzzle == 0)[0])   \n",
    "       \n",
    "        gn = gn + 1                            \n",
    "        c = 1\n",
    "        start_time = time.time()\n",
    "        for s in steps:\n",
    "            c = c + 1\n",
    "            if blank not in s['position']:\n",
    "                openstates = deepcopy(puzzle)         \n",
    "                openstates[blank], openstates[blank + s['head']] = openstates[blank + s['head']], openstates[blank]\n",
    "                \n",
    "                if ~(np.all(list(state['puzzle']) == openstates, 1)).any():          \n",
    "                    end_time = time.time()\n",
    "                    if (( end_time - start_time ) > 2):\n",
    "                        print(\" The 8 puzzle is unsolvable \\n\")\n",
    "                        break\n",
    "                     \n",
    "                    hn = misplaced_tiles(coordinates(openstates), costg) \n",
    "                    # generate and add new state in the list                    \n",
    "                    q = np.array([(openstates, position, gn, hn)], dtstate)         \n",
    "                    state = np.append(state, q, 0)\n",
    "                    # f(n) is the sum of cost to reach node\n",
    "                    fn = gn + hn                                        \n",
    "                     \n",
    "                    q = np.array([(len(state) - 1, fn)], dtpriority)\n",
    "                    priority = np.append(priority, q, 0)\n",
    "                     \n",
    "                    if np.array_equal(openstates, goal):                      \n",
    "                        print(' The 8 puzzle is solvable \\n')\n",
    "                        return state, len(priority)\n",
    "                         \n",
    "    return state, len(priority)\n",
    " \n",
    " \n",
    "# initial state \n",
    "puzzle = []\n",
    " \n",
    "puzzle.append(2)\n",
    "puzzle.append(8)\n",
    "puzzle.append(3)\n",
    "puzzle.append(7)\n",
    "puzzle.append(1)\n",
    "puzzle.append(4)\n",
    "puzzle.append(0)\n",
    "puzzle.append(6)\n",
    "puzzle.append(5)\n",
    " \n",
    "#goal state       \n",
    "goal = []\n",
    " \n",
    "goal.append(1)\n",
    "goal.append(2)\n",
    "goal.append(3)\n",
    "goal.append(8)\n",
    "goal.append(0)\n",
    "goal.append(4)\n",
    "goal.append(7)\n",
    "goal.append(6)\n",
    "goal.append(5) \n",
    " \n",
    " \n",
    "state, visited = evaluvate_misplaced(puzzle, goal) \n",
    "bestpath = bestsolution(state)\n",
    "print(str(bestpath).replace('[', ' ').replace(']', ''))\n",
    "totalmoves = len(bestpath) - 1\n",
    "print('\\nSteps to reach goal:',totalmoves)\n",
    "visit = len(state) - visited\n",
    "print('Total nodes visited: ',visit, \"\\n\")"
   ]
  }
 ],
 "metadata": {
  "kernelspec": {
   "display_name": "Python 3 (ipykernel)",
   "language": "python",
   "name": "python3"
  },
  "language_info": {
   "codemirror_mode": {
    "name": "ipython",
    "version": 3
   },
   "file_extension": ".py",
   "mimetype": "text/x-python",
   "name": "python",
   "nbconvert_exporter": "python",
   "pygments_lexer": "ipython3",
   "version": "3.10.13"
  }
 },
 "nbformat": 4,
 "nbformat_minor": 5
}
